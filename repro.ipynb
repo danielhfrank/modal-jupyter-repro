{
 "cells": [
  {
   "cell_type": "code",
   "execution_count": null,
   "id": "ce555526-1a78-444d-b5a5-6ebc9bd7a4c6",
   "metadata": {},
   "outputs": [],
   "source": [
    "import modal\n",
    "from lib import square\n",
    "\n",
    "stub = modal.Stub(\"jupyter repro\")\n",
    "\n",
    "@stub.function()\n",
    "def modal_square(x):\n",
    "    return square(x)\n",
    "\n",
    "with stub.run():\n",
    "    print(f\">> {modal_square.remote(2)}\")"
   ]
  },
  {
   "cell_type": "code",
   "execution_count": null,
   "id": "981e907c-c4c8-4615-a3b2-60422152f10a",
   "metadata": {},
   "outputs": [],
   "source": []
  }
 ],
 "metadata": {
  "kernelspec": {
   "display_name": "Python 3 (ipykernel)",
   "language": "python",
   "name": "python3"
  },
  "language_info": {
   "codemirror_mode": {
    "name": "ipython",
    "version": 3
   },
   "file_extension": ".py",
   "mimetype": "text/x-python",
   "name": "python",
   "nbconvert_exporter": "python",
   "pygments_lexer": "ipython3",
   "version": "3.10.12"
  }
 },
 "nbformat": 4,
 "nbformat_minor": 5
}
